{
 "cells": [
  {
   "cell_type": "code",
   "execution_count": 1,
   "id": "4d8a0fe6-ae13-41fd-8987-ad5253e7ca8f",
   "metadata": {},
   "outputs": [],
   "source": [
    "import pandas as pd\n",
    "import nltk #Natural Language tool kit -- this pacakge is quite a mess. Was poorly design and the documentation is not great\n",
    "from nltk.stem import WordNetLemmatizer\n",
    "from nltk.corpus import stopwords\n",
    "from sklearn.feature_extraction.text import CountVectorizer\n",
    "#from sklearn.feature_extraction.text import TfidfVectorizer"
   ]
  },
  {
   "cell_type": "code",
   "execution_count": 2,
   "id": "86f8aa1a-f108-41bb-a9de-577dc618542b",
   "metadata": {},
   "outputs": [],
   "source": [
    "text=\"\"\"President-elect Joe Biden and his transition team are preparing for an early, all-out push to pass an ambitious new stimulus bill, while also drawing up plans for a flurry of executive actions aimed at delivering on campaign promises and undoing the Trump administration's efforts to undermine key government agencies.\n",
    "Biden will be inaugurated in January with a pressing mandate to confront simultaneous and interwoven public health, economic and racial crises. At the same time, his team will take over the work of spearheading one of the most complicated, politically fraught mass vaccination campaigns in American history.\n",
    "Biden's agenda for his first 100 days in office will, according to both those close to him and outside groups in contact with his top aides, center on two key avenues of action: the passage of a broad economic aid package and, where legislation is not necessary, a series of executive actions aimed at advancing his priorities. Containing the Covid-19 pandemic, launching an economic recovery and tackling racial inequality are his most urgent priorities, transition officials say.\"\"\""
   ]
  },
  {
   "cell_type": "code",
   "execution_count": 3,
   "id": "ed1ac39a-6910-4107-bdca-42252d20885c",
   "metadata": {},
   "outputs": [
    {
     "data": {
      "text/plain": [
       "['President-elect',\n",
       " 'Joe',\n",
       " 'Biden',\n",
       " 'and',\n",
       " 'his',\n",
       " 'transition',\n",
       " 'team',\n",
       " 'are',\n",
       " 'preparing',\n",
       " 'for',\n",
       " 'an',\n",
       " 'early,',\n",
       " 'all-out',\n",
       " 'push',\n",
       " 'to',\n",
       " 'pass',\n",
       " 'an',\n",
       " 'ambitious',\n",
       " 'new',\n",
       " 'stimulus',\n",
       " 'bill,',\n",
       " 'while']"
      ]
     },
     "execution_count": 3,
     "metadata": {},
     "output_type": "execute_result"
    }
   ],
   "source": [
    "text.split(' ')[:22]"
   ]
  },
  {
   "cell_type": "code",
   "execution_count": 6,
   "id": "9214a1e4-516c-4d7a-9385-b4a91cbf7e8b",
   "metadata": {},
   "outputs": [
    {
     "name": "stderr",
     "output_type": "stream",
     "text": [
      "[nltk_data] Downloading package punkt to\n",
      "[nltk_data]     C:\\Users\\HP\\AppData\\Roaming\\nltk_data...\n",
      "[nltk_data]   Package punkt is already up-to-date!\n"
     ]
    },
    {
     "data": {
      "text/plain": [
       "['President-elect',\n",
       " 'Joe',\n",
       " 'Biden',\n",
       " 'and',\n",
       " 'his',\n",
       " 'transition',\n",
       " 'team',\n",
       " 'are',\n",
       " 'preparing',\n",
       " 'for',\n",
       " 'an',\n",
       " 'early',\n",
       " ',',\n",
       " 'all-out',\n",
       " 'push',\n",
       " 'to',\n",
       " 'pass',\n",
       " 'an',\n",
       " 'ambitious',\n",
       " 'new',\n",
       " 'stimulus',\n",
       " 'bill']"
      ]
     },
     "execution_count": 6,
     "metadata": {},
     "output_type": "execute_result"
    }
   ],
   "source": [
    "# For individual words\n",
    "from nltk.tokenize import word_tokenize\n",
    "\n",
    "nltk.download('punkt')\n",
    "\n",
    "tokens = word_tokenize(text)\n",
    "tokens[:22]"
   ]
  },
  {
   "cell_type": "code",
   "execution_count": 7,
   "id": "368cf159-44e9-4c84-93f6-3795f5a8718f",
   "metadata": {},
   "outputs": [
    {
     "data": {
      "text/plain": [
       "['Joe',\n",
       " 'Biden',\n",
       " 'and',\n",
       " 'his',\n",
       " 'transition',\n",
       " 'team',\n",
       " 'are',\n",
       " 'preparing',\n",
       " 'for',\n",
       " 'an',\n",
       " 'early',\n",
       " 'push',\n",
       " 'to',\n",
       " 'pass',\n",
       " 'an',\n",
       " 'ambitious',\n",
       " 'new',\n",
       " 'stimulus',\n",
       " 'bill',\n",
       " 'while',\n",
       " 'also',\n",
       " 'drawing']"
      ]
     },
     "execution_count": 7,
     "metadata": {},
     "output_type": "execute_result"
    }
   ],
   "source": [
    "tokens = [word for word in tokens if word.isalnum()]\n",
    "tokens[:22]"
   ]
  },
  {
   "cell_type": "code",
   "execution_count": 9,
   "id": "76b6f1fc-168b-4dbf-bfb0-86fa99a1a86d",
   "metadata": {},
   "outputs": [
    {
     "data": {
      "text/plain": [
       "[\"President-elect Joe Biden and his transition team are preparing for an early, all-out push to pass an ambitious new stimulus bill, while also drawing up plans for a flurry of executive actions aimed at delivering on campaign promises and undoing the Trump administration's efforts to undermine key government agencies.\",\n",
       " 'Biden will be inaugurated in January with a pressing mandate to confront simultaneous and interwoven public health, economic and racial crises.',\n",
       " 'At the same time, his team will take over the work of spearheading one of the most complicated, politically fraught mass vaccination campaigns in American history.',\n",
       " \"Biden's agenda for his first 100 days in office will, according to both those close to him and outside groups in contact with his top aides, center on two key avenues of action: the passage of a broad economic aid package and, where legislation is not necessary, a series of executive actions aimed at advancing his priorities.\",\n",
       " 'Containing the Covid-19 pandemic, launching an economic recovery and tackling racial inequality are his most urgent priorities, transition officials say.']"
      ]
     },
     "execution_count": 9,
     "metadata": {},
     "output_type": "execute_result"
    }
   ],
   "source": [
    "# For titles or sentences\n",
    "from nltk.tokenize import sent_tookenize\n",
    "\n",
    "sent_tokenize(text)"
   ]
  },
  {
   "cell_type": "code",
   "execution_count": 14,
   "id": "95211377-101e-44c8-842a-262f39754611",
   "metadata": {},
   "outputs": [
    {
     "name": "stderr",
     "output_type": "stream",
     "text": [
      "[nltk_data] Downloading package averaged_perceptron_tagger to\n",
      "[nltk_data]     C:\\Users\\HP\\AppData\\Roaming\\nltk_data...\n",
      "[nltk_data]   Package averaged_perceptron_tagger is already up-to-\n",
      "[nltk_data]       date!\n"
     ]
    },
    {
     "data": {
      "text/plain": [
       "[('Joe', 'NNP'),\n",
       " ('Biden', 'NNP'),\n",
       " ('and', 'CC'),\n",
       " ('his', 'PRP$'),\n",
       " ('transition', 'NN'),\n",
       " ('team', 'NN'),\n",
       " ('are', 'VBP'),\n",
       " ('preparing', 'VBG'),\n",
       " ('for', 'IN'),\n",
       " ('an', 'DT'),\n",
       " ('early', 'JJ'),\n",
       " ('push', 'NN'),\n",
       " ('to', 'TO'),\n",
       " ('pass', 'VB'),\n",
       " ('an', 'DT'),\n",
       " ('ambitious', 'JJ'),\n",
       " ('new', 'JJ'),\n",
       " ('stimulus', 'NN'),\n",
       " ('bill', 'NN'),\n",
       " ('while', 'IN')]"
      ]
     },
     "execution_count": 14,
     "metadata": {},
     "output_type": "execute_result"
    }
   ],
   "source": [
    "nltk.download('averaged_perceptron_tagger')\n",
    "nltk.pos_tag(tokens, lang = 'eng')[:20]"
   ]
  },
  {
   "cell_type": "code",
   "execution_count": 15,
   "id": "114ef8f1-b831-482d-9b04-6aa827b765b5",
   "metadata": {},
   "outputs": [
    {
     "data": {
      "text/plain": [
       "['Joe-->joe',\n",
       " 'Biden-->biden',\n",
       " 'and-->and',\n",
       " 'his-->his',\n",
       " 'transition-->transit',\n",
       " 'team-->team',\n",
       " 'are-->are',\n",
       " 'preparing-->prepar',\n",
       " 'for-->for',\n",
       " 'an-->an',\n",
       " 'early-->earli',\n",
       " 'push-->push',\n",
       " 'to-->to',\n",
       " 'pass-->pass',\n",
       " 'an-->an',\n",
       " 'ambitious-->ambiti',\n",
       " 'new-->new',\n",
       " 'stimulus-->stimulus',\n",
       " 'bill-->bill',\n",
       " 'while-->while']"
      ]
     },
     "execution_count": 15,
     "metadata": {},
     "output_type": "execute_result"
    }
   ],
   "source": [
    "# stemming can be done as cleaning technique -> treats prefixes and suffixes.\n",
    "## there are several stemmers\n",
    "\n",
    "## Lancaster - very strong\n",
    "## Porter - intermediant\n",
    "## Snowball - not so strong\n",
    "\n",
    "from nltk.stem import PorterStemmer, LancasterStemmer, SnowballStemmer\n",
    "\n",
    "ps = SnowballStemmer(language=\"english\")\n",
    "stemmed = [w +\"-->\"+ps.stem(w) for w in tokens]\n",
    "stemmed[:20]"
   ]
  },
  {
   "cell_type": "code",
   "execution_count": 16,
   "id": "bb70a879-9a24-47bc-9c2f-dc59555b3b4e",
   "metadata": {},
   "outputs": [
    {
     "name": "stderr",
     "output_type": "stream",
     "text": [
      "[nltk_data] Downloading package wordnet to\n",
      "[nltk_data]     C:\\Users\\HP\\AppData\\Roaming\\nltk_data...\n",
      "[nltk_data] Downloading package omw-1.4 to\n",
      "[nltk_data]     C:\\Users\\HP\\AppData\\Roaming\\nltk_data...\n"
     ]
    },
    {
     "data": {
      "text/plain": [
       "['Joe---->Joe',\n",
       " 'Biden---->Biden',\n",
       " 'and---->and',\n",
       " 'his---->his',\n",
       " 'transition---->transition',\n",
       " 'team---->team',\n",
       " 'are---->are',\n",
       " 'preparing---->preparing',\n",
       " 'for---->for',\n",
       " 'an---->an',\n",
       " 'early---->early',\n",
       " 'push---->push',\n",
       " 'to---->to',\n",
       " 'pass---->pas',\n",
       " 'an---->an',\n",
       " 'ambitious---->ambitious',\n",
       " 'new---->new',\n",
       " 'stimulus---->stimulus',\n",
       " 'bill---->bill',\n",
       " 'while---->while',\n",
       " 'also---->also',\n",
       " 'drawing---->drawing',\n",
       " 'up---->up',\n",
       " 'plans---->plan',\n",
       " 'for---->for',\n",
       " 'a---->a',\n",
       " 'flurry---->flurry',\n",
       " 'of---->of',\n",
       " 'executive---->executive',\n",
       " 'actions---->action',\n",
       " 'aimed---->aimed',\n",
       " 'at---->at',\n",
       " 'delivering---->delivering',\n",
       " 'on---->on',\n",
       " 'campaign---->campaign']"
      ]
     },
     "execution_count": 16,
     "metadata": {},
     "output_type": "execute_result"
    }
   ],
   "source": [
    "# lemmatization is a more context aware version of stemming, where we take the actual roots of individual words\n",
    "# the problem is that such a dictionary may not exist for all languages and that it does not know what to do with new words\n",
    "nltk.download('wordnet') # wordnet is the most well known lemmatizer for english\n",
    "from nltk.stem import WordNetLemmatizer\n",
    "from nltk.corpus import wordnet\n",
    "nltk.download('omw-1.4')\n",
    "lemmatizer = WordNetLemmatizer()\n",
    "lemmatized = [word +\"---->\" + lemmatizer.lemmatize(word) for word in tokens]\n",
    "lemmatized[:35]"
   ]
  },
  {
   "cell_type": "code",
   "execution_count": 18,
   "id": "aab4c3b3-782f-463e-9509-e4e5943ad442",
   "metadata": {},
   "outputs": [
    {
     "name": "stderr",
     "output_type": "stream",
     "text": [
      "[nltk_data] Downloading package stopwords to\n",
      "[nltk_data]     C:\\Users\\HP\\AppData\\Roaming\\nltk_data...\n",
      "[nltk_data]   Unzipping corpora\\stopwords.zip.\n"
     ]
    },
    {
     "data": {
      "text/plain": [
       "['Joe---->Joe',\n",
       " 'Biden---->Biden',\n",
       " 'and---->and',\n",
       " 'his---->his',\n",
       " 'transition---->transition',\n",
       " 'team---->team',\n",
       " 'are---->are',\n",
       " 'preparing---->preparing',\n",
       " 'for---->for',\n",
       " 'an---->an',\n",
       " 'early---->early',\n",
       " 'push---->push',\n",
       " 'to---->to',\n",
       " 'pass---->pas',\n",
       " 'an---->an',\n",
       " 'ambitious---->ambitious',\n",
       " 'new---->new',\n",
       " 'stimulus---->stimulus',\n",
       " 'bill---->bill',\n",
       " 'while---->while',\n",
       " 'also---->also',\n",
       " 'drawing---->drawing']"
      ]
     },
     "execution_count": 18,
     "metadata": {},
     "output_type": "execute_result"
    }
   ],
   "source": [
    "from nltk.corpus import stopwords\n",
    "nltk.download('stopwords')\n",
    "\n",
    "without_sw = [word for word in lemmatized if word not in stopwords.words()]\n",
    "without_sw[:22]"
   ]
  },
  {
   "cell_type": "code",
   "execution_count": 24,
   "id": "356644eb-33ba-4efd-858d-b327766e079f",
   "metadata": {},
   "outputs": [
    {
     "data": {
      "text/html": [
       "<div>\n",
       "<style scoped>\n",
       "    .dataframe tbody tr th:only-of-type {\n",
       "        vertical-align: middle;\n",
       "    }\n",
       "\n",
       "    .dataframe tbody tr th {\n",
       "        vertical-align: top;\n",
       "    }\n",
       "\n",
       "    .dataframe thead th {\n",
       "        text-align: right;\n",
       "    }\n",
       "</style>\n",
       "<table border=\"1\" class=\"dataframe\">\n",
       "  <thead>\n",
       "    <tr style=\"text-align: right;\">\n",
       "      <th></th>\n",
       "      <th>news</th>\n",
       "    </tr>\n",
       "  </thead>\n",
       "  <tbody>\n",
       "    <tr>\n",
       "      <th>0</th>\n",
       "      <td>SAN FRANCISCO (CBS.MW) -- Dell Inc. said Thurs...</td>\n",
       "    </tr>\n",
       "    <tr>\n",
       "      <th>1</th>\n",
       "      <td>American Phil Mickelson registered a 59 to win...</td>\n",
       "    </tr>\n",
       "    <tr>\n",
       "      <th>2</th>\n",
       "      <td>French President Jacques Chirac and British Pr...</td>\n",
       "    </tr>\n",
       "    <tr>\n",
       "      <th>3</th>\n",
       "      <td>As many as 15,000 New Zealanders will be force...</td>\n",
       "    </tr>\n",
       "    <tr>\n",
       "      <th>4</th>\n",
       "      <td>The group led by al Qaeda ally Abu Musab  al-Z...</td>\n",
       "    </tr>\n",
       "    <tr>\n",
       "      <th>...</th>\n",
       "      <td>...</td>\n",
       "    </tr>\n",
       "    <tr>\n",
       "      <th>9995</th>\n",
       "      <td>A business columnist at the Seattle Times in t...</td>\n",
       "    </tr>\n",
       "    <tr>\n",
       "      <th>9996</th>\n",
       "      <td>Washington shrugged off harsh verbal attacks f...</td>\n",
       "    </tr>\n",
       "    <tr>\n",
       "      <th>9997</th>\n",
       "      <td>Alicia Molik came back to beat French teen Tat...</td>\n",
       "    </tr>\n",
       "    <tr>\n",
       "      <th>9998</th>\n",
       "      <td>Ecuador upset Brazil 1-0 Wednesday to send the...</td>\n",
       "    </tr>\n",
       "    <tr>\n",
       "      <th>9999</th>\n",
       "      <td>World leaders saluted Secretary of State Colin...</td>\n",
       "    </tr>\n",
       "  </tbody>\n",
       "</table>\n",
       "<p>10000 rows × 1 columns</p>\n",
       "</div>"
      ],
      "text/plain": [
       "                                                   news\n",
       "0     SAN FRANCISCO (CBS.MW) -- Dell Inc. said Thurs...\n",
       "1     American Phil Mickelson registered a 59 to win...\n",
       "2     French President Jacques Chirac and British Pr...\n",
       "3     As many as 15,000 New Zealanders will be force...\n",
       "4     The group led by al Qaeda ally Abu Musab  al-Z...\n",
       "...                                                 ...\n",
       "9995  A business columnist at the Seattle Times in t...\n",
       "9996  Washington shrugged off harsh verbal attacks f...\n",
       "9997  Alicia Molik came back to beat French teen Tat...\n",
       "9998  Ecuador upset Brazil 1-0 Wednesday to send the...\n",
       "9999  World leaders saluted Secretary of State Colin...\n",
       "\n",
       "[10000 rows x 1 columns]"
      ]
     },
     "execution_count": 24,
     "metadata": {},
     "output_type": "execute_result"
    }
   ],
   "source": [
    "news = pd.read_csv(r\"C:\\Users\\HP\\Downloads\\news.csv\")\n",
    "news"
   ]
  },
  {
   "cell_type": "code",
   "execution_count": 25,
   "id": "bf369bed-2d7d-4416-80e4-2cdc73b3ec8b",
   "metadata": {},
   "outputs": [
    {
     "ename": "NameError",
     "evalue": "name 'all_news' is not defined",
     "output_type": "error",
     "traceback": [
      "\u001b[1;31m---------------------------------------------------------------------------\u001b[0m",
      "\u001b[1;31mNameError\u001b[0m                                 Traceback (most recent call last)",
      "Cell \u001b[1;32mIn[25], line 1\u001b[0m\n\u001b[1;32m----> 1\u001b[0m all_news[\u001b[38;5;124m\"\u001b[39m\u001b[38;5;124mnews\u001b[39m\u001b[38;5;124m\"\u001b[39m][\u001b[38;5;241m0\u001b[39m]\n",
      "\u001b[1;31mNameError\u001b[0m: name 'all_news' is not defined"
     ]
    }
   ],
   "source": [
    "all_news[\"news\"][0]"
   ]
  },
  {
   "cell_type": "code",
   "execution_count": null,
   "id": "622e5b06-0986-4177-9346-98bbeb01dbf7",
   "metadata": {},
   "outputs": [],
   "source": []
  }
 ],
 "metadata": {
  "kernelspec": {
   "display_name": "Python 3 (ipykernel)",
   "language": "python",
   "name": "python3"
  },
  "language_info": {
   "codemirror_mode": {
    "name": "ipython",
    "version": 3
   },
   "file_extension": ".py",
   "mimetype": "text/x-python",
   "name": "python",
   "nbconvert_exporter": "python",
   "pygments_lexer": "ipython3",
   "version": "3.11.7"
  }
 },
 "nbformat": 4,
 "nbformat_minor": 5
}
